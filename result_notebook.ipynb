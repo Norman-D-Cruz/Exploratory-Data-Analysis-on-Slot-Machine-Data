{
 "cells": [
  {
   "attachments": {},
   "cell_type": "markdown",
   "id": "8f46003f",
   "metadata": {},
   "source": [
    "# EDA on Slot Machine Dataset"
   ]
  },
  {
   "attachments": {},
   "cell_type": "markdown",
   "id": "9289424d",
   "metadata": {},
   "source": [
    "### Extract insights from the dataset and show the findings. "
   ]
  },
  {
   "attachments": {},
   "cell_type": "markdown",
   "id": "5eb298da",
   "metadata": {},
   "source": [
    "## Preliminaries"
   ]
  },
  {
   "cell_type": "code",
   "execution_count": 1,
   "id": "38868268",
   "metadata": {},
   "outputs": [],
   "source": [
    "import pandas as pd\n",
    "import numpy as np\n",
    "import matplotlib.pyplot as plt"
   ]
  },
  {
   "cell_type": "code",
   "execution_count": 2,
   "id": "1ec3151a",
   "metadata": {},
   "outputs": [],
   "source": [
    "df = pd.read_csv(\"C:\\\\Users\\\\NormanKevinDelaCruz\\\\Desktop\\\\dataengineering-test-data.csv\")"
   ]
  },
  {
   "cell_type": "code",
   "execution_count": 3,
   "id": "f8e94f89",
   "metadata": {},
   "outputs": [
    {
     "data": {
      "text/html": [
       "<div>\n",
       "<style scoped>\n",
       "    .dataframe tbody tr th:only-of-type {\n",
       "        vertical-align: middle;\n",
       "    }\n",
       "\n",
       "    .dataframe tbody tr th {\n",
       "        vertical-align: top;\n",
       "    }\n",
       "\n",
       "    .dataframe thead th {\n",
       "        text-align: right;\n",
       "    }\n",
       "</style>\n",
       "<table border=\"1\" class=\"dataframe\">\n",
       "  <thead>\n",
       "    <tr style=\"text-align: right;\">\n",
       "      <th></th>\n",
       "      <th>event_user</th>\n",
       "      <th>install_date</th>\n",
       "      <th>event_name</th>\n",
       "      <th>event_time</th>\n",
       "      <th>slotmachine_id</th>\n",
       "      <th>current_level</th>\n",
       "      <th>session_id</th>\n",
       "      <th>session_token</th>\n",
       "      <th>total_bet_amount</th>\n",
       "      <th>max_bet_amount</th>\n",
       "      <th>amount</th>\n",
       "      <th>spin_type</th>\n",
       "      <th>win_type</th>\n",
       "    </tr>\n",
       "  </thead>\n",
       "  <tbody>\n",
       "    <tr>\n",
       "      <th>0</th>\n",
       "      <td>0006eb6299ddd86c1f8f5d5c2c868a56</td>\n",
       "      <td>2019-02-01 22:44:22.000000</td>\n",
       "      <td>pcs.slotmachine.round_played</td>\n",
       "      <td>2019-02-01 22:46:34.000000</td>\n",
       "      <td>Cleopatra</td>\n",
       "      <td>1</td>\n",
       "      <td>5342ee7a3844e98b54fd074ea9aaabc1</td>\n",
       "      <td>ed3f346fd36ec57ecd781168a063fddb</td>\n",
       "      <td>2500</td>\n",
       "      <td>5000</td>\n",
       "      <td>750</td>\n",
       "      <td>manual</td>\n",
       "      <td>fake</td>\n",
       "    </tr>\n",
       "    <tr>\n",
       "      <th>1</th>\n",
       "      <td>0006eb6299ddd86c1f8f5d5c2c868a56</td>\n",
       "      <td>2019-02-01 22:44:22.000000</td>\n",
       "      <td>pcs.slotmachine.round_played</td>\n",
       "      <td>2019-02-01 22:46:34.000000</td>\n",
       "      <td>Cleopatra</td>\n",
       "      <td>1</td>\n",
       "      <td>5342ee7a3844e98b54fd074ea9aaabc1</td>\n",
       "      <td>ed3f346fd36ec57ecd781168a063fddb</td>\n",
       "      <td>5000</td>\n",
       "      <td>5000</td>\n",
       "      <td>72000</td>\n",
       "      <td>manual</td>\n",
       "      <td>mega</td>\n",
       "    </tr>\n",
       "    <tr>\n",
       "      <th>2</th>\n",
       "      <td>0006eb6299ddd86c1f8f5d5c2c868a56</td>\n",
       "      <td>2019-02-01 22:44:22.000000</td>\n",
       "      <td>pcs.slotmachine.round_played</td>\n",
       "      <td>2019-02-01 22:46:34.000000</td>\n",
       "      <td>Cleopatra</td>\n",
       "      <td>1</td>\n",
       "      <td>5342ee7a3844e98b54fd074ea9aaabc1</td>\n",
       "      <td>ed3f346fd36ec57ecd781168a063fddb</td>\n",
       "      <td>5000</td>\n",
       "      <td>5000</td>\n",
       "      <td>0</td>\n",
       "      <td>manual</td>\n",
       "      <td>none</td>\n",
       "    </tr>\n",
       "    <tr>\n",
       "      <th>3</th>\n",
       "      <td>0006eb6299ddd86c1f8f5d5c2c868a56</td>\n",
       "      <td>2019-02-01 22:44:22.000000</td>\n",
       "      <td>pcs.slotmachine.round_played</td>\n",
       "      <td>2019-02-01 22:46:34.000000</td>\n",
       "      <td>Cleopatra</td>\n",
       "      <td>1</td>\n",
       "      <td>5342ee7a3844e98b54fd074ea9aaabc1</td>\n",
       "      <td>ed3f346fd36ec57ecd781168a063fddb</td>\n",
       "      <td>5000</td>\n",
       "      <td>5000</td>\n",
       "      <td>1500</td>\n",
       "      <td>manual</td>\n",
       "      <td>fake</td>\n",
       "    </tr>\n",
       "  </tbody>\n",
       "</table>\n",
       "</div>"
      ],
      "text/plain": [
       "                         event_user                install_date  \\\n",
       "0  0006eb6299ddd86c1f8f5d5c2c868a56  2019-02-01 22:44:22.000000   \n",
       "1  0006eb6299ddd86c1f8f5d5c2c868a56  2019-02-01 22:44:22.000000   \n",
       "2  0006eb6299ddd86c1f8f5d5c2c868a56  2019-02-01 22:44:22.000000   \n",
       "3  0006eb6299ddd86c1f8f5d5c2c868a56  2019-02-01 22:44:22.000000   \n",
       "\n",
       "                     event_name                  event_time slotmachine_id  \\\n",
       "0  pcs.slotmachine.round_played  2019-02-01 22:46:34.000000      Cleopatra   \n",
       "1  pcs.slotmachine.round_played  2019-02-01 22:46:34.000000      Cleopatra   \n",
       "2  pcs.slotmachine.round_played  2019-02-01 22:46:34.000000      Cleopatra   \n",
       "3  pcs.slotmachine.round_played  2019-02-01 22:46:34.000000      Cleopatra   \n",
       "\n",
       "   current_level                        session_id  \\\n",
       "0              1  5342ee7a3844e98b54fd074ea9aaabc1   \n",
       "1              1  5342ee7a3844e98b54fd074ea9aaabc1   \n",
       "2              1  5342ee7a3844e98b54fd074ea9aaabc1   \n",
       "3              1  5342ee7a3844e98b54fd074ea9aaabc1   \n",
       "\n",
       "                      session_token  total_bet_amount  max_bet_amount  amount  \\\n",
       "0  ed3f346fd36ec57ecd781168a063fddb              2500            5000     750   \n",
       "1  ed3f346fd36ec57ecd781168a063fddb              5000            5000   72000   \n",
       "2  ed3f346fd36ec57ecd781168a063fddb              5000            5000       0   \n",
       "3  ed3f346fd36ec57ecd781168a063fddb              5000            5000    1500   \n",
       "\n",
       "  spin_type win_type  \n",
       "0    manual     fake  \n",
       "1    manual     mega  \n",
       "2    manual     none  \n",
       "3    manual     fake  "
      ]
     },
     "execution_count": 3,
     "metadata": {},
     "output_type": "execute_result"
    }
   ],
   "source": [
    "df.head(4)"
   ]
  },
  {
   "cell_type": "code",
   "execution_count": 4,
   "id": "7404cf81",
   "metadata": {},
   "outputs": [
    {
     "data": {
      "text/plain": [
       "(842765, 13)"
      ]
     },
     "execution_count": 4,
     "metadata": {},
     "output_type": "execute_result"
    }
   ],
   "source": [
    "df.shape # Total no. of rounds and columns"
   ]
  },
  {
   "cell_type": "code",
   "execution_count": 5,
   "id": "536b1e84",
   "metadata": {},
   "outputs": [
    {
     "data": {
      "text/plain": [
       "Index(['event_user', 'install_date', 'event_name', 'event_time',\n",
       "       'slotmachine_id', 'current_level', 'session_id', 'session_token',\n",
       "       'total_bet_amount', 'max_bet_amount', 'amount', 'spin_type',\n",
       "       'win_type'],\n",
       "      dtype='object')"
      ]
     },
     "execution_count": 5,
     "metadata": {},
     "output_type": "execute_result"
    }
   ],
   "source": [
    "df.columns"
   ]
  },
  {
   "cell_type": "code",
   "execution_count": 6,
   "id": "6f1533d5",
   "metadata": {},
   "outputs": [
    {
     "data": {
      "text/plain": [
       "49"
      ]
     },
     "execution_count": 6,
     "metadata": {},
     "output_type": "execute_result"
    }
   ],
   "source": [
    "df.slotmachine_id.nunique() # Total Machine Slot"
   ]
  },
  {
   "cell_type": "code",
   "execution_count": 7,
   "id": "bf8f5b15",
   "metadata": {},
   "outputs": [
    {
     "data": {
      "text/plain": [
       "5377"
      ]
     },
     "execution_count": 7,
     "metadata": {},
     "output_type": "execute_result"
    }
   ],
   "source": [
    "df.session_id.nunique() # All sessions "
   ]
  },
  {
   "attachments": {},
   "cell_type": "markdown",
   "id": "6f74db86",
   "metadata": {},
   "source": [
    "# Question 1: Number of unique players"
   ]
  },
  {
   "cell_type": "code",
   "execution_count": 8,
   "id": "360046aa",
   "metadata": {},
   "outputs": [
    {
     "data": {
      "text/plain": [
       "1275"
      ]
     },
     "execution_count": 8,
     "metadata": {},
     "output_type": "execute_result"
    }
   ],
   "source": [
    "df.event_user.nunique() # players with unique event_user"
   ]
  },
  {
   "cell_type": "code",
   "execution_count": 9,
   "id": "ade7f233",
   "metadata": {},
   "outputs": [
    {
     "data": {
      "text/plain": [
       "661"
      ]
     },
     "execution_count": 9,
     "metadata": {},
     "output_type": "execute_result"
    }
   ],
   "source": [
    "round(df[df.columns[0]].count() / df.event_user.nunique()) # the average spin per player"
   ]
  },
  {
   "cell_type": "code",
   "execution_count": 10,
   "id": "4e70d928",
   "metadata": {},
   "outputs": [
    {
     "data": {
      "text/plain": [
       "25438"
      ]
     },
     "execution_count": 10,
     "metadata": {},
     "output_type": "execute_result"
    }
   ],
   "source": [
    "df.event_user.value_counts().max() # Max Spin"
   ]
  },
  {
   "cell_type": "code",
   "execution_count": 11,
   "id": "4d1dabee",
   "metadata": {},
   "outputs": [
    {
     "data": {
      "text/plain": [
       "1"
      ]
     },
     "execution_count": 11,
     "metadata": {},
     "output_type": "execute_result"
    }
   ],
   "source": [
    "df.event_user.value_counts().min() # Min Spin"
   ]
  },
  {
   "attachments": {},
   "cell_type": "markdown",
   "id": "97f54349",
   "metadata": {},
   "source": [
    "# Question 2.1: What is the average number of slot machines a player plays in a session?"
   ]
  },
  {
   "cell_type": "code",
   "execution_count": 12,
   "id": "78348a6f",
   "metadata": {},
   "outputs": [
    {
     "data": {
      "text/plain": [
       "event_user                        session_id                      \n",
       "0006eb6299ddd86c1f8f5d5c2c868a56  109c3ca6459b4dc9abb6eca10e4d71e8    1\n",
       "                                  29cce4ff383b7540020363cb91d05424    1\n",
       "                                  2e438c4036316f8b51aea8e8bfedaeb8    1\n",
       "                                  31137855a6c83c04fddcfff9080612e8    1\n",
       "                                  39dc99236594c5feedb56c6b91418b78    1\n",
       "                                                                     ..\n",
       "ff6d908ce1e1e23eb077bbf187ea8621  dbe3b0ea808239460cf73902acef0fb6    2\n",
       "ff6e2bfe18a818252d15613e914b561a  198f580c51095804051dd55b55ed6988    1\n",
       "                                  bce486348c6f0ca814bfa9b339a0cc0a    1\n",
       "                                  f6f1a582bad390d1cbd877015e9fdfec    1\n",
       "ffd256da322ee33d0d9d34ff7416a4b0  63e5528e5744c289f3219d8d05b48a14    1\n",
       "Name: slotmachine_id, Length: 5377, dtype: int64"
      ]
     },
     "execution_count": 12,
     "metadata": {},
     "output_type": "execute_result"
    }
   ],
   "source": [
    "df.groupby(['event_user', 'session_id'])['slotmachine_id'].nunique() #  the number of slot machines used by the player in session "
   ]
  },
  {
   "cell_type": "code",
   "execution_count": 13,
   "id": "8f961eae",
   "metadata": {},
   "outputs": [
    {
     "data": {
      "text/plain": [
       "1.5752278222056908"
      ]
     },
     "execution_count": 13,
     "metadata": {},
     "output_type": "execute_result"
    }
   ],
   "source": [
    "df.groupby(['event_user', 'session_id'])['slotmachine_id'].nunique().sum() / df.session_id.nunique() # Average usage of  slotmachine per player in a session"
   ]
  },
  {
   "cell_type": "code",
   "execution_count": 14,
   "id": "64317be5",
   "metadata": {},
   "outputs": [
    {
     "data": {
      "text/plain": [
       "54"
      ]
     },
     "execution_count": 14,
     "metadata": {},
     "output_type": "execute_result"
    }
   ],
   "source": [
    "df.groupby('event_user').session_id.nunique().max() # max session of a player"
   ]
  },
  {
   "attachments": {},
   "cell_type": "markdown",
   "id": "6e5a2ab5",
   "metadata": {},
   "source": [
    "# Question 2.2: What is the average number of spins played in each machine session?"
   ]
  },
  {
   "cell_type": "code",
   "execution_count": 15,
   "id": "2f97ea2b",
   "metadata": {
    "scrolled": true
   },
   "outputs": [
    {
     "data": {
      "text/plain": [
       "slotmachine_id\n",
       "AdventuresOfAlice         476\n",
       "ArcaneReels               629\n",
       "AstroBlitz               6707\n",
       "BigBucksBarbeque         1154\n",
       "BigWinBuffalo           62172\n",
       "BubbleCubes               970\n",
       "CasinoCats              21603\n",
       "CasinoClassicSevens         8\n",
       "Cleopatra              292581\n",
       "ClockworkChronicles       367\n",
       "DiaDeMuertos             1121\n",
       "DiamondDeluxe           49683\n",
       "Diner                   18459\n",
       "DoubleWinClassic          259\n",
       "DragonCubes              1474\n",
       "Easter                    807\n",
       "FairyTale               39229\n",
       "FarmCubes                 851\n",
       "Freya                     612\n",
       "GalleonsOfGlory          1818\n",
       "GoldenConquest            228\n",
       "GoldenDragon            89923\n",
       "HackCity                  893\n",
       "ImmortalFortunes        16702\n",
       "JuiceCubes              12262\n",
       "JungleCubes              4784\n",
       "KingdomOfGold           31671\n",
       "KongsQuest                264\n",
       "LuckyClassic777           159\n",
       "MysticWolf              11594\n",
       "PiratePlunder            3455\n",
       "PotOfGold                5074\n",
       "ReelsOfSpeed            17152\n",
       "RichesOfAtlantis          113\n",
       "RichesOfOsiris            273\n",
       "SantaExtravaganza        3204\n",
       "SaveTheEarth              717\n",
       "SciFi                    3587\n",
       "SherwoodBounty           1103\n",
       "StarshipSquadron          560\n",
       "SteamyHotJackpots        2328\n",
       "SweetStakes              2264\n",
       "TemptationIsland        15118\n",
       "TheOutsiders             2803\n",
       "TitanDefenders            272\n",
       "VegasRoyale              5584\n",
       "WildWest                31706\n",
       "WorldFeast               1334\n",
       "goldennights            76658\n",
       "Name: event_user, dtype: int64"
      ]
     },
     "execution_count": 15,
     "metadata": {},
     "output_type": "execute_result"
    }
   ],
   "source": [
    "df.groupby('slotmachine_id')['event_user'].count() # Total Span of each slotmachine"
   ]
  },
  {
   "cell_type": "code",
   "execution_count": 16,
   "id": "f3b6f051",
   "metadata": {},
   "outputs": [
    {
     "data": {
      "text/plain": [
       "17199"
      ]
     },
     "execution_count": 16,
     "metadata": {},
     "output_type": "execute_result"
    }
   ],
   "source": [
    "round(df.groupby('slotmachine_id')['event_user'].count().mean())  # mean spin"
   ]
  },
  {
   "attachments": {},
   "cell_type": "markdown",
   "id": "6ed2f8be",
   "metadata": {},
   "source": [
    "# Question 3: What is the probability of hitting the various win_types in any given round?"
   ]
  },
  {
   "cell_type": "code",
   "execution_count": 17,
   "id": "f823733f",
   "metadata": {},
   "outputs": [],
   "source": [
    "def round_clear(value, round_by):\n",
    "    return format(round(value * 100 ,round_by), \".\"+str(round_by)+\"f\")"
   ]
  },
  {
   "cell_type": "code",
   "execution_count": 18,
   "id": "77dea415",
   "metadata": {},
   "outputs": [
    {
     "data": {
      "text/plain": [
       "'14.29'"
      ]
     },
     "execution_count": 18,
     "metadata": {},
     "output_type": "execute_result"
    }
   ],
   "source": [
    "round_clear(1 / df.win_type.nunique(), 2)"
   ]
  },
  {
   "attachments": {},
   "cell_type": "markdown",
   "id": "54ac74fb",
   "metadata": {},
   "source": [
    "### Occurence of each win_types based on the dataset"
   ]
  },
  {
   "cell_type": "code",
   "execution_count": 19,
   "id": "b7688068",
   "metadata": {},
   "outputs": [
    {
     "data": {
      "text/plain": [
       "none        474429\n",
       "fake        230497\n",
       "regular      99738\n",
       "big          22856\n",
       "fivekind      7444\n",
       "mega          5310\n",
       "ultra         2491\n",
       "Name: win_type, dtype: int64"
      ]
     },
     "execution_count": 19,
     "metadata": {},
     "output_type": "execute_result"
    }
   ],
   "source": [
    "df.win_type.value_counts() # number of appearance of each win_types"
   ]
  },
  {
   "cell_type": "code",
   "execution_count": 20,
   "id": "b5e5f242",
   "metadata": {},
   "outputs": [
    {
     "data": {
      "text/plain": [
       "none        0.562943\n",
       "fake        0.273501\n",
       "regular     0.118346\n",
       "big         0.027120\n",
       "fivekind    0.008833\n",
       "mega        0.006301\n",
       "ultra       0.002956\n",
       "Name: win_type, dtype: float64"
      ]
     },
     "execution_count": 20,
     "metadata": {},
     "output_type": "execute_result"
    }
   ],
   "source": [
    "df.win_type.value_counts(normalize = True) # distribution of each win_types"
   ]
  },
  {
   "attachments": {},
   "cell_type": "markdown",
   "id": "92e27ef7",
   "metadata": {},
   "source": [
    "# Question 4: What is the Day 1 Retention of the players?  "
   ]
  },
  {
   "cell_type": "code",
   "execution_count": 21,
   "id": "e9385658",
   "metadata": {},
   "outputs": [],
   "source": [
    "df['event_time'] = pd.to_datetime(df['event_time']) # changing to datatime format for uniformity\n",
    "df['install_date'] = pd.to_datetime(df['install_date'])"
   ]
  },
  {
   "cell_type": "code",
   "execution_count": 22,
   "id": "dff40eec",
   "metadata": {},
   "outputs": [],
   "source": [
    "df['retention_date'] = df['install_date'] - df['event_time']\n",
    "df['retention'] = df['retention_date'].dt.days # see only days thus, 24 hours "
   ]
  },
  {
   "cell_type": "code",
   "execution_count": 23,
   "id": "40815e9c",
   "metadata": {},
   "outputs": [
    {
     "data": {
      "text/plain": [
       "376484"
      ]
     },
     "execution_count": 23,
     "metadata": {},
     "output_type": "execute_result"
    }
   ],
   "source": [
    "len(df.loc[df['event_time'].dt.strftime('%dT').str.contains('01')])"
   ]
  },
  {
   "cell_type": "code",
   "execution_count": 24,
   "id": "04493846",
   "metadata": {
    "scrolled": true
   },
   "outputs": [
    {
     "data": {
      "text/plain": [
       "retention\n",
       "-5      98\n",
       "-4     223\n",
       "-3     235\n",
       "-2     341\n",
       "-1    1261\n",
       "Name: event_user, dtype: int64"
      ]
     },
     "execution_count": 24,
     "metadata": {},
     "output_type": "execute_result"
    }
   ],
   "source": [
    "df.groupby('retention')['event_user'].nunique()"
   ]
  },
  {
   "attachments": {},
   "cell_type": "markdown",
   "id": "18e9e469",
   "metadata": {},
   "source": [
    "# Question 5: What is the average RTP (Return to Player) for each slot machine?"
   ]
  },
  {
   "cell_type": "code",
   "execution_count": 25,
   "id": "508930ac",
   "metadata": {},
   "outputs": [],
   "source": [
    "df[\"RTP\"] = df['amount'] / df['total_bet_amount']  # Calculate the RTP based on the given formula"
   ]
  },
  {
   "cell_type": "code",
   "execution_count": 26,
   "id": "efb669eb",
   "metadata": {
    "scrolled": true
   },
   "outputs": [
    {
     "data": {
      "text/plain": [
       "slotmachine_id\n",
       "AdventuresOfAlice        0.892479\n",
       "ArcaneReels              0.715103\n",
       "AstroBlitz               0.687863\n",
       "BigBucksBarbeque         0.806378\n",
       "BigWinBuffalo            0.678838\n",
       "BubbleCubes              0.691478\n",
       "CasinoCats               0.684488\n",
       "CasinoClassicSevens    368.750000\n",
       "Cleopatra                0.886940\n",
       "ClockworkChronicles      8.664632\n",
       "DiaDeMuertos             0.796922\n",
       "DiamondDeluxe            0.783850\n",
       "Diner                    0.746502\n",
       "DoubleWinClassic         4.017158\n",
       "DragonCubes              0.782849\n",
       "Easter                   6.683764\n",
       "FairyTale                0.566664\n",
       "FarmCubes                7.086228\n",
       "Freya                    0.614902\n",
       "GalleonsOfGlory          0.758251\n",
       "GoldenConquest           0.755877\n",
       "GoldenDragon             0.703146\n",
       "HackCity                 0.683897\n",
       "ImmortalFortunes         1.605245\n",
       "JuiceCubes               0.780718\n",
       "JungleCubes              0.784546\n",
       "KingdomOfGold            0.761619\n",
       "KongsQuest               0.694621\n",
       "LuckyClassic777          0.518239\n",
       "MysticWolf               1.632389\n",
       "PiratePlunder            0.832638\n",
       "PotOfGold                1.189712\n",
       "ReelsOfSpeed             0.712102\n",
       "RichesOfAtlantis         0.404248\n",
       "RichesOfOsiris          10.481468\n",
       "SantaExtravaganza        0.769127\n",
       "SaveTheEarth             0.703766\n",
       "SciFi                    0.957634\n",
       "SherwoodBounty           0.692348\n",
       "StarshipSquadron         0.749665\n",
       "SteamyHotJackpots        0.706160\n",
       "SweetStakes              0.748697\n",
       "TemptationIsland         0.848238\n",
       "TheOutsiders             1.016247\n",
       "TitanDefenders           0.906801\n",
       "VegasRoyale              0.695511\n",
       "WildWest                 0.904452\n",
       "WorldFeast               0.807976\n",
       "goldennights             0.964556\n",
       "Name: RTP, dtype: float64"
      ]
     },
     "execution_count": 26,
     "metadata": {},
     "output_type": "execute_result"
    }
   ],
   "source": [
    "df.groupby(\"slotmachine_id\")['RTP'].mean() # get the average RTP on each slot machine"
   ]
  },
  {
   "cell_type": "code",
   "execution_count": 27,
   "id": "09d378d1",
   "metadata": {},
   "outputs": [
    {
     "data": {
      "text/plain": [
       "8000000000"
      ]
     },
     "execution_count": 27,
     "metadata": {},
     "output_type": "execute_result"
    }
   ],
   "source": [
    "df['total_bet_amount'].max() # max bet placed"
   ]
  },
  {
   "cell_type": "code",
   "execution_count": 28,
   "id": "2a6c0dfb",
   "metadata": {
    "scrolled": true
   },
   "outputs": [
    {
     "data": {
      "text/plain": [
       "5265440000000"
      ]
     },
     "execution_count": 28,
     "metadata": {},
     "output_type": "execute_result"
    }
   ],
   "source": [
    "df['amount'].max() # max reward"
   ]
  },
  {
   "cell_type": "code",
   "execution_count": null,
   "id": "a1e23c4c",
   "metadata": {},
   "outputs": [],
   "source": []
  },
  {
   "cell_type": "code",
   "execution_count": null,
   "id": "3ddcac90",
   "metadata": {},
   "outputs": [],
   "source": []
  },
  {
   "cell_type": "code",
   "execution_count": null,
   "id": "9de54ba2",
   "metadata": {},
   "outputs": [],
   "source": []
  }
 ],
 "metadata": {
  "kernelspec": {
   "display_name": "Python 3 (ipykernel)",
   "language": "python",
   "name": "python3"
  },
  "language_info": {
   "codemirror_mode": {
    "name": "ipython",
    "version": 3
   },
   "file_extension": ".py",
   "mimetype": "text/x-python",
   "name": "python",
   "nbconvert_exporter": "python",
   "pygments_lexer": "ipython3",
   "version": "3.9.13"
  }
 },
 "nbformat": 4,
 "nbformat_minor": 5
}
